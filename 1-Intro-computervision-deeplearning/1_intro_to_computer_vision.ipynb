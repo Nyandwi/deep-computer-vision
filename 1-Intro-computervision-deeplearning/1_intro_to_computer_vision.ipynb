{
  "nbformat": 4,
  "nbformat_minor": 0,
  "metadata": {
    "colab": {
      "name": "1-intro-to-computer-vision.ipynb",
      "provenance": [],
      "collapsed_sections": []
    },
    "kernelspec": {
      "name": "python3",
      "display_name": "Python 3"
    },
    "language_info": {
      "name": "python"
    }
  },
  "cells": [
    {
      "cell_type": "markdown",
      "metadata": {
        "id": "8qZtP9cKyoAS"
      },
      "source": [
        "<a name='0'></a>\n",
        "\n",
        "# Intro to Computer Vision "
      ]
    },
    {
      "cell_type": "markdown",
      "metadata": {
        "id": "XRkt52s-1DZC"
      },
      "source": [
        "### What's in here: \n",
        "\n",
        "* [1. What is Computer Vision?](#1)\n",
        "* [2. Industrial Applications of Computer Vision](#2)\n",
        "* [3. History of Computer Vision](#3)\n",
        "* [4. Typical Computer Vision Tasks](#4)\n",
        "* [5. Challenges in Building Computer Visions Systems](#5)\n",
        "* [6. Computer Vision Tools Landscape](#6)\n",
        "* [7. Further Learning](#7)"
      ]
    },
    {
      "cell_type": "markdown",
      "metadata": {
        "id": "AGb3oT2u7VA5"
      },
      "source": [
        "<a name='1'></a>\n",
        "\n",
        "## 1. What is Computer Vision? "
      ]
    },
    {
      "cell_type": "markdown",
      "metadata": {
        "id": "ImugCPSM8I1I"
      },
      "source": [
        "Humans are blessed with the natural ability of interacting and seeing the real world. It takes our [visual cortex](https://en.wikipedia.org/wiki/Visual_cortex)(part of the brain responsible for processing visual information) a fraction of milliseconds to recognize objects around us. \n",
        "\n",
        "Computers are not that blessed. It is extremely hard for a computer to interact with the external environment. What is computer vision and why is it important and a hard problem at the same time? \n",
        "\n",
        "Computer vision is an interdisciplinary field that deals with giving the computer the ability to process, interpret, and reason about visual data such as images and videos. \n",
        "\n",
        "In order for a computer to understand the visual world, a number of techniques and tools must be involved. A quick example for a typical face recognizer system: There has to be a camera for taking the face, a vision algorithm trained to recognize that particular face, and automated action to follow (say open the Sir office door when the face match with the real Sir face). \n",
        "\n",
        "The above scenario sounds simple, but that's very hard in practice. For humans, recognizing people and other objects is an effortless activity. In fact, we don't even think about it because our [visual system](https://en.wikipedia.org/wiki/Visual_system) is very\n",
        "intrinsic. Computer vision seeks to mimic human visual system but scientists and researchers don't understand yet the real mechanism of human visual system. \n",
        "\n",
        "Even if computer vision is hard, it is an exciting field. Nowdays, computer vision is everywhere. There are hundreds of visual sensors, billions of images/videos uploaded on social media platforms like Instagram and YouTube everyday, and so forth. All of those massive data needs to be processed so that they can be understood by computers and there is a need of building systems that can automate these processes. The daily increase of visual data on the internet and the exponential grouth of vision industries is by far two of the reasons why computer vision is an indemand field to day. \n",
        "\n",
        "\n",
        "Applications wise, computer vision is powering many things to day, from cars that can drive themselves, smartphones that know face of their users, smart shops that will let you check in and check out yourself (ex: [Amazon Just Walk Away](https://www.youtube.com/watch?v=NrmMk1Myrxc), [article](https://www.supermarketnews.com/technology/amazon-brings-just-walk-out-technology-amazon-fresh)), and so forth. Let's review some of the most exciting applications of computer vision in different industries. "
      ]
    },
    {
      "cell_type": "markdown",
      "metadata": {
        "id": "bI1tdsFSeWHc"
      },
      "source": [
        "<a name='2'></a>\n",
        "\n",
        "## 2. Applications of Computer Vision"
      ]
    },
    {
      "cell_type": "markdown",
      "metadata": {
        "id": "NAM9eyRChsZG"
      },
      "source": [
        "Computer vision is widely used in whole range of real world and industrial applications. \n",
        "\n",
        "Let's briefly discuss some of the prominent applications of computer vision. \n",
        "\n",
        "### 1. Autonomous vehicles\n",
        "\n",
        "To day's autonomous vehicles such as self driving cars use computer vision techniques and algorithms at scale. Computer vision gives self driving cars the ability to navigate in the real world, such as being able to detect the surrounding objects/nearby cars, pedestrians and traffic signs. Driveless cars heavily rely on state of the art computer vision techniques such as object detection and image segmentation. \n",
        "\n",
        "You can learn more about computer vision use cases in driveless cars on the following resources:\n",
        "\n",
        "* [Deep Multi-modal Object Detection and Semantic\n",
        "Segmentation for Autonomous Driving: Datasets,\n",
        "Methods, and Challenges(Di, Feng et al. 2020)](https://arxiv.org/pdf/1902.07830.pdf) and [the paper site](https://boschresearch.github.io/multimodalperception/).\n",
        "* [A Survey of Deep Learning Techniques for Autonomous Driving](https://arxiv.org/pdf/1910.07738.pdf)\n",
        "* [Tesla Autopilot](https://www.tesla.com/autopilot)\n",
        "* [Deep AI & Vision Case Study: Self Driving Car](https://www.youtube.com/watch?v=CerTu2-FzFw)"
      ]
    },
    {
      "cell_type": "markdown",
      "metadata": {
        "id": "n_txQj2rtW-p"
      },
      "source": [
        "### 2. Medicine\n",
        "\n",
        "Computer vision is widely used in medicine to assist medical professionals make better decisions. Example of the related medical applications include diagnosing diseases from medical scans, extracting useful information in medical documents, tumor detection, etc...\n",
        "\n",
        "If you are interested in AI and Computer vision for medicine, watch this [video](https://www.youtube.com/watch?v=VJRCj-4E2iU&t=19s) by Andrew Ng and Pranav, or check [Pranav Rajpurkar](https://rajpurkar.github.io) sites, podcats, and publications. \n",
        "\n",
        "\n",
        "### 3. Machine Inspection\n",
        "\n",
        "Machine inspection is one of the prominent applications of computer vision in industries. \n",
        "\n",
        "Manufacturing industries use computer vision to inspect faults or defects in products under production process. In modern industries, products inspection is fully automated. \n",
        "\n",
        "\n",
        "### 4. Retails Shops\n",
        "\n",
        "Smart shops are using computer vision to automate everything from automated checkout lanes and automatic stocking. \n",
        "\n",
        "A perfect example for this type of application is [Amazon Go](https://www.youtube.com/watch?v=NrmMk1Myrxc). People enter in the shop using barcode(connected to their payment cards) from Amazon Go phone app, pick up any products they want, vision systems detect those products and charge them automaticaly on their virtual cards, the stock updates itself and add more products using sensor fusion, if you decide to take the product back, it is automatically removed to your cart, and lastly you just walk out. Hence the name of technology: `Just Walk Out`.\n",
        "\n",
        "\n",
        "\n",
        "### 5. Optical Character Recognition(OCR)\n",
        "\n",
        "OCR is another widely use of computer vision that is most notable in document processing, reading handritten postal codes on letters and cheques, and automatic number plate recognition(ANPR). \n",
        "\n",
        "\n",
        "There are many more applications of computer vision and they keep emerging. For example, smartphones have many vision algorithms running inside them such as face recognition, image enhancements, and other image processing related applications. \n",
        "\n",
        "To learn more about other applications of computer vision, check out this [website. ](https://www.cs.ubc.ca/~lowe/vision.html).\n",
        "\n",
        "\n",
        "\n"
      ]
    },
    {
      "cell_type": "markdown",
      "metadata": {
        "id": "ShK1nDBH9CTi"
      },
      "source": [
        "<a name='3'></a>\n",
        "\n",
        "### 3. A Brief History of Computer Vision"
      ]
    },
    {
      "cell_type": "markdown",
      "metadata": {
        "id": "aaTfA8BFsJiS"
      },
      "source": [
        "If we were asked to give the history of computer vision, the majority of us would not go far from popular deep learning algorithms for visual recognition such as convolutional neural networks. Perhaps, some would also take another step back to [Imagenet Large Scale Visual Recognition Challenge (ILSVRC)](https://image-net.org/challenges/LSVRC/index.php) that gave rise to the success of convolutional neural networks and deep learning field in general. Imagenet challenge and convolutional neural networks were two major contributors to the development of research and industrial applications of computer vision. \n",
        "\n",
        "\n",
        "Computer vision began in early 1960s in some few universities(Stanford, CMU, MIT) that were pioneering Artificial Intelligence. Their goal was to mimic human perception system. In 1966, an undergraduate student at MIT was asked by his professor to \"spent the summer linking a camera to a computer and getting the computer to describe what it saw\"(`Mind as Machine: A History of Cognitive Science,B oden 2006, p. 781`). You can get the copy of the book [here](http://bibotu.com/books/2019/Margaret%20Boden%20-%20Mind%20as%20Machine_%20A%20History%20of%20Cognitive%20Science-Oxford%20University%20Press,%20USA%20(2008).pdf). And to quote the book, that was not a joke. It was a serious project, but now we know it's still a difficult task. \n",
        "\n",
        "Another MIT paper that seems to be linked to such summer project stated that \"the final goal is OBJECT IDENTIFICATION which will actually name objects by matching them with a vocabulary of known objects.\" You can find the Summer Vision Project paper [here](https://dspace.mit.edu/handle/1721.1/6125) and the project plan [here](https://dspace.mit.edu/bitstream/handle/1721.1/6125/AIM-100.pdf?sequence=2&isAllowed=y). \n",
        "\n",
        "At that time, the one thing that distinguished computer vision from digital image processing was their desire to extract the three dimensional structure from the image in order to understand the full scene. \n",
        "\n",
        "This is not a complete history. Since 1966, a lot of things happened and research in visual recognition kept happening. For example, in 1989, Yann LeCun created convolutional neural network architecture[(LeNet-5)](http://yann.lecun.com/exdb/lenet/index.html) that could be used to recognize handwritten texts such as checks. \n",
        "\n",
        "Computer vision we know to day is whole different story. The algorithms and tools have advanced in a way that it's pretty simple to use. \n",
        "\n",
        "For more about history of computer vision, I recommend you to watch the [first lecture](https://www.youtube.com/watch?v=vT1JzLTH4G4&list=PL3FW7Lu3i5JvHM8ljYj-zLfQRF3EO8sYv&index=1&t=153s) of [CS231n: Convolutional Neural Networks for Visual Recognition](http://cs231n.stanford.edu/2019/), or read the linked resources on the [wikipedia page.](https://en.wikipedia.org/wiki/Computer_vision#History) on the history of the computer vision. "
      ]
    },
    {
      "cell_type": "markdown",
      "metadata": {
        "id": "HMq41j4U9ISk"
      },
      "source": [
        "<a name='4'></a>\n",
        "\n",
        "### 4. Typical Computer Vision Tasks"
      ]
    },
    {
      "cell_type": "markdown",
      "metadata": {
        "id": "rM6HmjVuskjO"
      },
      "source": [
        "All applications of computer vision we discussed in prior section involves different tasks. Most computer vision tasks falls into recognition, generation, motion estimation, scene reconstruction and image restoration. \n",
        "\n",
        "Let's discuss the first two tasks categories in details. \n",
        "\n",
        "### A. Recognition Tasks\n",
        "\n",
        "Recognition tasks are the most popular computer vision tasks. They involve identifying whether or not a given image/video contain some specific object, feature or a given activity. \n",
        "\n",
        "Here are examples of popular recognition tasks: \n",
        "\n",
        "#### 1. Image classification/recognition \n",
        "\n",
        "In this type of task, we may be given two images, and the objective be to identify the categories/class of these images. \n",
        "\n",
        "![image](https://drive.google.com/uc?export=view&id=1ZeLbtND4wgBO5hMRQv4RSmmshSmK9Su9)\n",
        "\n",
        "\n",
        "#### 2. Object detection \n",
        "\n",
        "Object detection involves recognizing the object and localizing it in image. \n",
        "\n",
        "![image](https://drive.google.com/uc?export=view&id=17a66Ii0EatplziKsIRWwu0SN7oYQNzrg)\n",
        "\n",
        "#### 3. Image segmentation\n",
        "\n",
        "Image segmentation involves dividing an image pixels into different parts according to their features. \n",
        "\n",
        "There are 3 types of image segmentation: \n",
        "\n",
        "*  **Semantic segmentation** that associates each pixel of an image with a class label(such as person and car). \n",
        "\n",
        "* **Instance segmentation** that detect and associates pixels with individual objects. \n",
        "\n",
        "* **Panoptic segmentation** that is a combination of both semantic and instance segmentation.  With panoptic segmentation, we can get more information about image such as number of objects and the bounding boxes. To put it simply, all of the objects are correctly segmented and the remaining parts are correctly labeled. To learn more about this type of segmentation, check out this [paper](https://arxiv.org/abs/1801.00868) and [article](https://hasty.ai/blog/panoptic-segmentation-explained/). \n",
        "\n",
        "\n",
        "![image](https://drive.google.com/uc?export=view&id=1I_fMUJKbkIywGTEFixDpCnt453wzEwpr)\n",
        "\n",
        "#### 4. Video Classification\n",
        "\n",
        "Video is a series or a sequence of individual images/frames. Video classification is a task of identifying a label that is most relevant to the video given its frames.\n",
        "\n",
        "*******\n",
        "\n",
        "Image classification, object detection and image segmentation are the common most computer tasks nowdays. Algorithms wise, [Convolutional Neural Networks(a.k.a ConvNets)](https://arxiv.org/pdf/1509.09308v2.pdf) are deep learning type architecture that has proven to handle recognition tasks(we will learn more about ConvNets in later parts). [Vision transformers](https://arxiv.org/abs/2105.07581) are also trending, but by far, ConvNets are undoubtedly current and well tested architecture for solving wide variety of image recognition tasks.\n"
      ]
    },
    {
      "cell_type": "markdown",
      "metadata": {
        "id": "l-Zb6Sfx9dyZ"
      },
      "source": [
        "### B. Generative Tasks \n",
        "\n",
        "Generative networks are special type of neural networks architectures that are used for generating set of data samples that does not exist such as images of people or object. You can virtually see that kind of art on sites like [thispersondoesnotexist](https://thispersondoesnotexist.com), [thisrentaldoesnotexist](https://thisrentaldoesnotexist.com), and [thischairdoesnotexist](https://thischairdoesnotexist.com).\n",
        "\n",
        "GANs or Generative Adversarial Networks are made of two main networks - a generator that learns to generate new plausible data, and dicriminator whose job is to learn the difference between the generated data and real data. \n",
        "\n",
        "GANs are used for various computer vision tasks and in the later parts we will practice them. Below the tasks of generative models in computer vision: \n",
        "\n",
        "* Generating artificial datasets\n",
        "* Generating images of people and objects\n",
        "* Style transfer\n",
        "* Image colorization..See [this](https://deepai.org/machine-learning-model/colorizer), and [this](https://github.com/jantic/DeOldify).\n",
        "* Creating images from texts. See OpenAI [DALL.E](https://openai.com/blog/dall-e/).\n",
        "\n",
        "\n",
        "![image](https://drive.google.com/uc?export=view&id=1CEPefPlGArQQB0CS2Ll3Nb8pRdpg-hGD)\n",
        "\n",
        "*Image: GANs in action: Image colorization. You can tr it [here](https://deepai.org/machine-learning-model/colorizer) or [here](https://www.myheritage.com).*\n",
        "\n",
        "GANs has lot of applications in computer vision. I highly recommend reading this [machinelearningmasterly article](https://machinelearningmastery.com/impressive-applications-of-generative-adversarial-networks/) and [this](https://jonathan-hui.medium.com/gan-some-cool-applications-of-gans-4c9ecca35900). You can also check this [awesome GANs repo](https://github.com/nashory/gans-awesome-applications). \n"
      ]
    },
    {
      "cell_type": "markdown",
      "metadata": {
        "id": "T7TZ9ptkTsuF"
      },
      "source": [
        "<a name='5'></a>\n",
        "\n",
        "## 5. Challenges in Building Computer Visions Systems"
      ]
    },
    {
      "cell_type": "markdown",
      "metadata": {
        "id": "PwXAVereUIci"
      },
      "source": [
        "Computer vision is a hard problem, and some areas of computer vision involve some sorts of risks. For example: can you fully trust that the self driving car will always break itself when confronted with a truck or a pedestrian?\n",
        "\n",
        "In 2012, Andrej Karpathy, Director of AI Tesla and the first instructor of Stanford Cs231N wrote [a great article](http://karpathy.github.io/2012/10/22/state-of-computer-vision/) about the state of computer vision, and noted that `we are really, really far away`. I will borrow the image and ideas from the blog to discuss why computer vision is a hard and still a hard problem to day. \n",
        "\n",
        "<!--....Hide  -->\n",
        "![image](https://drive.google.com/uc?export=view&id=1jwd8raaNskWOk3uq2SI3XJ6_h52ElpNH) \\\n",
        "\n",
        "*Image credit: Andrej Karpathy blog*\n",
        "\n",
        "How would the computer understand the above image like you and I can do understand it? Let's take some typical things that we can draw from the image. \n",
        "\n",
        "* First, you see many people in hall way. \n",
        "* They are all man and they are in black suits.\n",
        "* You recognize that there are 3 mirrors in the scene and thus some faces are replicates. \n",
        "* You notice that there a guy on front and Obama are close, and there is another group of people looking a them. \n",
        "* You see a guy standing on a scale measuring his weights, and you see he is reading his weights (a process that involves some physics), and you know that we tend to be conscious about our weights. \n",
        "* You see a person behind him is Mrs President and he is leaning on scale, and it could increase the weight of a guy on scale, and no doubt that the guy would feel embrassed. \n",
        "* You look in the faces and notice that all guys seems happy and funnier, except the guy on scale. \n",
        "\n",
        "For humans, thinking about all those things can happen in a blink of eye. But it's a different story if we were to build a computer vision system that can interpret everything happening in the image. Take sometime to read the entire [blog](http://karpathy.github.io/2012/10/22/state-of-computer-vision/) to get a sense of how computer vision involves a wide variety of knouledge from physics, people and emotion, information about the 3D structure of the scene, people's identities, etc...\n",
        "\n",
        "\n",
        "There are many more challenges to building effective computer vision systems as well, and some of those are quite rooted in the above scenario. \n",
        "\n",
        "Here are some other challenges:\n",
        "\n",
        "* **Software and hardware tools:** Computer vision and deep learning frameworks have advanced, but the heavy work still remains on the engineers building the systems. Also, implementing the vision algorithms require expensive equipments (like Camera, chips, sensors) and very few people can afford them. \n",
        "\n",
        "* **Computation power:** Training complex deep learning algorithms require huge amount of computation power, and not everyone can afford owning powerful machine learning accelators like GPUs(Graphical Processing Units).\n",
        "\n",
        "* **Lack of customized datasets and labelling issues:** If you were going to build a fashion classifier, you would not have a problem getting a training images because these images are available for free on the internet. But if you are going to solve a problem that no one solved before, you may have to create your own dataset and this is quite expensive. You are going to need labelling these images (assigning names to images, say image23.png is cat). Labelling can be [crowdcourced](https://arxiv.org/abs/1611.02145), but it's expensive and there is a tendency of having errors. Even the popular datasets like Imagenet has labelling errors(see [this](https://venturebeat.com/2021/03/28/mit-study-finds-systematic-labeling-errors-in-popular-ai-benchmark-datasets/)).\n",
        "\n",
        "\n",
        "Let's wrap up this intro to computer vision by looking at the vision tools landscape. \n",
        "\n",
        "\n",
        "\n",
        "\n"
      ]
    },
    {
      "cell_type": "markdown",
      "metadata": {
        "id": "OJbPes-O0YaW"
      },
      "source": [
        "<a name='6'></a>\n",
        "\n",
        "## 6. Computer Vision Tools Landscape"
      ]
    },
    {
      "cell_type": "markdown",
      "metadata": {
        "id": "uIFze0Cjsziv"
      },
      "source": [
        "Below is a list of computer vision related tools. \n",
        "\n",
        "The tools are arranged according to their specific tasks. \n",
        "\n",
        "### Image and Model Visualizations\n",
        "\n",
        "* [Matplotlib](https://matplotlib.org): Matplotlib is a fantastic Python library for visualizing images and other types of data. \n",
        "\n",
        "* [TensorBoard](https://www.tensorflow.org/tensorboard) is a TensorFlow's visualization toolkit used to visualize image and other types of data. TensorBoard is not only limited to visualization, it can also be used in debugging machine learning models, visualize model graphs and weights. \n",
        "\n",
        "* [Visdom](https://github.com/fossasia/visdom) is a flexible tool for visualizing live images and other types of data. \n",
        "\n",
        "* [OpenAI Microscope](https://microscope.openai.com/models) is a collection of visualizations of every significant layer and neuron of 13 important vision models such as AlexNet, Inception v3, VGG(Visual Geometry Group) and ResNet. \n",
        "\n",
        "### Image Processing \n",
        "\n",
        "* [NumPy](https://numpy.org) is a scientific computing library used to create and manipulate dimensional arrays. Images are array of pixels, so we can use NumPy to process those pixels. \n",
        "\n",
        "* [OpenCV](https://opencv.org) or Open Computer Vision is a powerful image processing library that is supported by different programming languages such as Python, C++, Java, Matlab/Octave, and Javascript. It is orginally written in C++. OpenCV also provides state of the arts computer vision techniques such as object detection. \n",
        "\n",
        "* [Scikit-Image](https://scikit-image.org/docs/stable/auto_examples/) is a flexible image processing Python library that offers different functionalities in working with images. \n",
        "\n",
        "* [Pillow](https://pillow.readthedocs.io/en/stable/index.html) is a powerful and versatile Python image processing library that also provides a support for different image formats and a range of image processing capabilities. \n",
        "\n",
        "* [OpenMMLab](https://openmmlab.com/home) is another computer vision libary that provides a wide range of functionalities such as image classification, detection, segmentation and super-resolution.\n",
        "\n",
        " There are more other image processing tools or related, that was the popular ones. Also, most machine learning frameworks like Tensorflow or PyTorch provides image processing functions. TensorFlow has [tf.image](https://www.tensorflow.org/api_docs/python/tf/image) and PyTorch has [Kornia](https://kornia.github.io). \n",
        "\n",
        "\n",
        " ### Deep Learning\n",
        "\n",
        "The popular deep learning frameworks that are widely used for building visual recognition algorithms are [TensorFlow](https://www.tensorflow.org), [Pytorch](https://pytorch.org), [Jax](https://jax.readthedocs.io/en/latest/) and [Apache MXNet](https://mxnet.apache.org/versions/1.8.0/). For a list of all deep learning frameworks, check this [Wikipedia page](https://en.wikipedia.org/wiki/Comparison_of_deep-learning_software). \n",
        "\n",
        "\n",
        "Here are the most important tools or functions provided by most popular deep learning frameworks: TensorFlow and PyTorch. \n",
        "\n",
        "* [TensorFlow](https://www.tensorflow.org) core library contains functions and layers for building image classification models. \n",
        "\n",
        "* [TensorFlow Hub](https://tfhub.dev/s?module-type=image-augmentation,image-classification,image-classification-logits,image-classifier,image-feature-vector,image-generator,image-object-detection,image-others,image-pose-detection,image-segmentation,image-style-transfer,image-super-resolution,image-rnn-agent) contains a whole range of pretrained models from classification, object detection, image segmentation, etc...It's not advised to train a big deep learning model from scratch, so make use of these pretrained models. \n",
        "\n",
        "* [TensorFlow Model Garden](https://github.com/tensorflow/models/tree/master/official#computer-vision) contains various computer vision pretrained models such as [Mask R-CNN](https://arxiv.org/pdf/1703.06870.pdf) for object detection and segmentation. Check [this](https://github.com/tensorflow/models/blob/master/official/vision/beta/MODEL_GARDEN.md) also. \n",
        "\n",
        "* [TensorFlow Object Detection API](https://github.com/tensorflow/models/tree/master/research/object_detection) is an open source framework built on top of TensorFlow that makes it easy to build, train and deploy object detection models.\n",
        "\n",
        "* [TensorFlow Datasets](https://www.tensorflow.org/datasets/catalog/overview) contains a range of computer vision datasets.\n",
        "\n",
        "* PyTorch has [torchvision](https://pytorch.org/vision/stable/index.html), computer vision library that contains popular datasets, vision model architectures, and common image transformation functions. \n",
        "\n",
        "* PyTorch and Facebook AI research has a great object detection and image segmentation library called [Detectron](https://github.com/facebookresearch/detectron2). You can try it on this [Google Colab Notebook](https://colab.research.google.com/drive/16jcaJoc6bCFAQ96jDe2HwtXj7BMD_-m5). Check other Pytorch vision models [here](https://github.com/rwightman/pytorch-image-models#sponsors). \n",
        "\n",
        "\n",
        "For a more list of computer vision datasets, check this [comprehensive website](http://datasets.visionbib.com)."
      ]
    },
    {
      "cell_type": "markdown",
      "metadata": {
        "id": "QMCnmkEWABhw"
      },
      "source": [
        "## 7. Further Learning"
      ]
    },
    {
      "cell_type": "markdown",
      "metadata": {
        "id": "6kOmH77uAHo-"
      },
      "source": [
        "This is the end of the introduction to computer vision. If you would like to learn more, you can watch: \n",
        "\n",
        "* [Lecture 1](https://www.youtube.com/watch?v=vT1JzLTH4G4&list=PL3FW7Lu3i5JvHM8ljYj-zLfQRF3EO8sYv&index=1), Introduction to Convolutional Neural Networks for Visual Recognition, CS231N by Justin Johnson and Fei-Fei Li. \n",
        "* [Lecture 1](https://www.youtube.com/watch?v=dJYGatp4SvA&list=PL5-TkQAfAZFbzxjBHtzdVCWE0Zbhomg7r&index=1&t=168s), Introduction to Deep Learning for Computer Vision, Justin Johnson, University of Michigan. "
      ]
    },
    {
      "cell_type": "markdown",
      "metadata": {
        "id": "jr6rHEQcB9Og"
      },
      "source": [
        "### [BACK TO TOP](#0)"
      ]
    },
    {
      "cell_type": "code",
      "metadata": {
        "id": "eoskzt-wf9fY"
      },
      "source": [
        ""
      ],
      "execution_count": null,
      "outputs": []
    }
  ]
}